{
  "nbformat": 4,
  "nbformat_minor": 0,
  "metadata": {
    "colab": {
      "provenance": [],
      "authorship_tag": "ABX9TyPdG3QmSUxm6zsQe9TGZmge",
      "include_colab_link": true
    },
    "kernelspec": {
      "name": "python3",
      "display_name": "Python 3"
    },
    "language_info": {
      "name": "python"
    }
  },
  "cells": [
    {
      "cell_type": "markdown",
      "metadata": {
        "id": "view-in-github",
        "colab_type": "text"
      },
      "source": [
        "<a href=\"https://colab.research.google.com/github/bigblack1206/Introduction-to-Computers/blob/main/0515.ipynb\" target=\"_parent\"><img src=\"https://colab.research.google.com/assets/colab-badge.svg\" alt=\"Open In Colab\"/></a>"
      ]
    },
    {
      "cell_type": "code",
      "execution_count": null,
      "metadata": {
        "id": "uXc0pHt0Qngd",
        "outputId": "e8fd1cc8-082b-4c4f-c55c-6549a03b8fd3",
        "colab": {
          "base_uri": "https://localhost:8080/"
        }
      },
      "outputs": [
        {
          "output_type": "stream",
          "name": "stdout",
          "text": [
            "0515\n"
          ]
        }
      ],
      "source": [
        "print(\"0515\")"
      ]
    },
    {
      "cell_type": "code",
      "source": [
        "rain = (input(\"今天會下雨嗎\"))\n",
        "if(rain==\"y\" or rain==\"Y\"):\n",
        "  print(\"記得帶傘\")\n",
        "elif(rain==\"n\" or rain==\"N\"):\n",
        "  print(\"不用帶傘\")\n",
        "else:\n",
        "  print(\"重新填寫\")"
      ],
      "metadata": {
        "colab": {
          "base_uri": "https://localhost:8080/"
        },
        "id": "H_7eUAZ6R3Tu",
        "outputId": "2db660ae-df84-4d0e-800a-53e15a925bb4"
      },
      "execution_count": 22,
      "outputs": [
        {
          "output_type": "stream",
          "name": "stdout",
          "text": [
            "今天會下雨嗎y\n",
            "記得帶傘\n"
          ]
        }
      ]
    },
    {
      "cell_type": "code",
      "source": [
        "temperature = float(input(\"temperature\"))\n",
        "if temperature >= 37.5:\n",
        "  print('體溫過高')\n",
        "elif temperature >= 37 <=37.4:\n",
        "  print('體溫略高')\n",
        "elif temperature >= 34 <=36.9:\n",
        "  print(\"體溫正常\")\n",
        "elif temperature <= 34:\n",
        "  print('體溫異常，請重新量測')\n"
      ],
      "metadata": {
        "colab": {
          "base_uri": "https://localhost:8080/"
        },
        "id": "vQKJ3d3vT9Ru",
        "outputId": "c36d714f-6719-44dd-8e74-c9ef20dba957"
      },
      "execution_count": 39,
      "outputs": [
        {
          "output_type": "stream",
          "name": "stdout",
          "text": [
            "temperature35\n",
            "體溫正常\n"
          ]
        }
      ]
    },
    {
      "cell_type": "code",
      "source": [
        "score = int(input(\"請輸入成績\"))\n",
        "if score >= 90:\n",
        "  print('A')\n",
        "elif score >= 80 <=89:\n",
        "  print('B')\n",
        "elif score >= 70 <=79:\n",
        "  print('C')\n",
        "elif score >= 60 <=69:\n",
        "  print('D')\n",
        "else:\n",
        "  print('E')"
      ],
      "metadata": {
        "colab": {
          "base_uri": "https://localhost:8080/"
        },
        "id": "JOsfvbI5VTrI",
        "outputId": "59bf28b7-7958-4824-9bba-615c7ba85816"
      },
      "execution_count": 37,
      "outputs": [
        {
          "output_type": "stream",
          "name": "stdout",
          "text": [
            "請輸入成績50\n",
            "E\n"
          ]
        }
      ]
    },
    {
      "cell_type": "code",
      "source": [
        "month = int(input(\"請輸入月份\"))\n",
        "if month in (3 , 4 , 5) :\n",
        "  season = \"是春天\"\n",
        "elif month in (6 , 7 , 8):\n",
        "  season = \"是夏天\"\n",
        "elif month in (9 , 10 , 11):\n",
        "  season = \"是秋天\"\n",
        "elif month in (1 , 2 , 12):\n",
        "  season = \"是冬天\"\n",
        "else:\n",
        "   season=('月份不在範圍內')\n",
        "\n",
        "print(month,\"月\",season,\"!\")"
      ],
      "metadata": {
        "colab": {
          "base_uri": "https://localhost:8080/"
        },
        "id": "RVtOU16Ofq5d",
        "outputId": "629cc9e1-af56-4ac1-b9f4-387e665a4032"
      },
      "execution_count": 125,
      "outputs": [
        {
          "output_type": "stream",
          "name": "stdout",
          "text": [
            "請輸入月份13\n",
            "13 月 月份不在範圍內 !\n"
          ]
        }
      ]
    },
    {
      "cell_type": "code",
      "source": [
        "income = int(input(\"請輸入今年收入淨額\"))\n",
        "if income >= 2000000:\n",
        "  tax_rate = 0.3\n",
        "elif income >= 1000000 <= 1999999:\n",
        "  tax_rate = 0.21\n",
        "elif income >= 600000 <= 999999:\n",
        "  tax_rate = 0.13\n",
        "elif income >= 300000 <= 599999:\n",
        "  tax_rate = 0.06\n",
        "else:\n",
        "  tax_rate = 0\n",
        "賦稅金額 = income * tax_rate\n",
        "print(\"賦稅金額:\",賦稅金額,\"元\")"
      ],
      "metadata": {
        "colab": {
          "base_uri": "https://localhost:8080/"
        },
        "id": "IBkOXuTwc7Qx",
        "outputId": "55df615d-dfa9-4acf-d19c-0151d4428941"
      },
      "execution_count": 116,
      "outputs": [
        {
          "output_type": "stream",
          "name": "stdout",
          "text": [
            "請輸入今年收入淨額2000000\n",
            "賦稅金額: 600000.0 元\n"
          ]
        }
      ]
    }
  ]
}